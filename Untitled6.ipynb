{
  "nbformat": 4,
  "nbformat_minor": 0,
  "metadata": {
    "colab": {
      "provenance": [],
      "authorship_tag": "ABX9TyPGY1r/u1c36ZCgB5BJpVbA",
      "include_colab_link": true
    },
    "kernelspec": {
      "name": "python3",
      "display_name": "Python 3"
    },
    "language_info": {
      "name": "python"
    }
  },
  "cells": [
    {
      "cell_type": "markdown",
      "metadata": {
        "id": "view-in-github",
        "colab_type": "text"
      },
      "source": [
        "<a href=\"https://colab.research.google.com/github/laibajabeen/hackathon/blob/main/Untitled6.ipynb\" target=\"_parent\"><img src=\"https://colab.research.google.com/assets/colab-badge.svg\" alt=\"Open In Colab\"/></a>"
      ]
    },
    {
      "cell_type": "code",
      "execution_count": 1,
      "metadata": {
        "colab": {
          "base_uri": "https://localhost:8080/"
        },
        "id": "bWYUm5VFBqZa",
        "outputId": "f29b137e-f8f9-4666-fe83-ec0e333a6a2c"
      },
      "outputs": [
        {
          "output_type": "stream",
          "name": "stdout",
          "text": [
            "Requirement already satisfied: pandas in /usr/local/lib/python3.11/dist-packages (2.2.2)\n",
            "Requirement already satisfied: numpy in /usr/local/lib/python3.11/dist-packages (1.26.4)\n",
            "Requirement already satisfied: scikit-learn in /usr/local/lib/python3.11/dist-packages (1.6.1)\n",
            "Requirement already satisfied: tensorflow in /usr/local/lib/python3.11/dist-packages (2.18.0)\n",
            "Collecting streamlit\n",
            "  Downloading streamlit-1.42.0-py2.py3-none-any.whl.metadata (8.9 kB)\n",
            "Collecting schedule\n",
            "  Downloading schedule-1.2.2-py3-none-any.whl.metadata (3.8 kB)\n",
            "Requirement already satisfied: kaggle in /usr/local/lib/python3.11/dist-packages (1.6.17)\n",
            "Requirement already satisfied: python-dateutil>=2.8.2 in /usr/local/lib/python3.11/dist-packages (from pandas) (2.8.2)\n",
            "Requirement already satisfied: pytz>=2020.1 in /usr/local/lib/python3.11/dist-packages (from pandas) (2025.1)\n",
            "Requirement already satisfied: tzdata>=2022.7 in /usr/local/lib/python3.11/dist-packages (from pandas) (2025.1)\n",
            "Requirement already satisfied: scipy>=1.6.0 in /usr/local/lib/python3.11/dist-packages (from scikit-learn) (1.13.1)\n",
            "Requirement already satisfied: joblib>=1.2.0 in /usr/local/lib/python3.11/dist-packages (from scikit-learn) (1.4.2)\n",
            "Requirement already satisfied: threadpoolctl>=3.1.0 in /usr/local/lib/python3.11/dist-packages (from scikit-learn) (3.5.0)\n",
            "Requirement already satisfied: absl-py>=1.0.0 in /usr/local/lib/python3.11/dist-packages (from tensorflow) (1.4.0)\n",
            "Requirement already satisfied: astunparse>=1.6.0 in /usr/local/lib/python3.11/dist-packages (from tensorflow) (1.6.3)\n",
            "Requirement already satisfied: flatbuffers>=24.3.25 in /usr/local/lib/python3.11/dist-packages (from tensorflow) (25.1.24)\n",
            "Requirement already satisfied: gast!=0.5.0,!=0.5.1,!=0.5.2,>=0.2.1 in /usr/local/lib/python3.11/dist-packages (from tensorflow) (0.6.0)\n",
            "Requirement already satisfied: google-pasta>=0.1.1 in /usr/local/lib/python3.11/dist-packages (from tensorflow) (0.2.0)\n",
            "Requirement already satisfied: libclang>=13.0.0 in /usr/local/lib/python3.11/dist-packages (from tensorflow) (18.1.1)\n",
            "Requirement already satisfied: opt-einsum>=2.3.2 in /usr/local/lib/python3.11/dist-packages (from tensorflow) (3.4.0)\n",
            "Requirement already satisfied: packaging in /usr/local/lib/python3.11/dist-packages (from tensorflow) (24.2)\n",
            "Requirement already satisfied: protobuf!=4.21.0,!=4.21.1,!=4.21.2,!=4.21.3,!=4.21.4,!=4.21.5,<6.0.0dev,>=3.20.3 in /usr/local/lib/python3.11/dist-packages (from tensorflow) (4.25.6)\n",
            "Requirement already satisfied: requests<3,>=2.21.0 in /usr/local/lib/python3.11/dist-packages (from tensorflow) (2.32.3)\n",
            "Requirement already satisfied: setuptools in /usr/local/lib/python3.11/dist-packages (from tensorflow) (75.1.0)\n",
            "Requirement already satisfied: six>=1.12.0 in /usr/local/lib/python3.11/dist-packages (from tensorflow) (1.17.0)\n",
            "Requirement already satisfied: termcolor>=1.1.0 in /usr/local/lib/python3.11/dist-packages (from tensorflow) (2.5.0)\n",
            "Requirement already satisfied: typing-extensions>=3.6.6 in /usr/local/lib/python3.11/dist-packages (from tensorflow) (4.12.2)\n",
            "Requirement already satisfied: wrapt>=1.11.0 in /usr/local/lib/python3.11/dist-packages (from tensorflow) (1.17.2)\n",
            "Requirement already satisfied: grpcio<2.0,>=1.24.3 in /usr/local/lib/python3.11/dist-packages (from tensorflow) (1.70.0)\n",
            "Requirement already satisfied: tensorboard<2.19,>=2.18 in /usr/local/lib/python3.11/dist-packages (from tensorflow) (2.18.0)\n",
            "Requirement already satisfied: keras>=3.5.0 in /usr/local/lib/python3.11/dist-packages (from tensorflow) (3.8.0)\n",
            "Requirement already satisfied: h5py>=3.11.0 in /usr/local/lib/python3.11/dist-packages (from tensorflow) (3.12.1)\n",
            "Requirement already satisfied: ml-dtypes<0.5.0,>=0.4.0 in /usr/local/lib/python3.11/dist-packages (from tensorflow) (0.4.1)\n",
            "Requirement already satisfied: tensorflow-io-gcs-filesystem>=0.23.1 in /usr/local/lib/python3.11/dist-packages (from tensorflow) (0.37.1)\n",
            "Requirement already satisfied: altair<6,>=4.0 in /usr/local/lib/python3.11/dist-packages (from streamlit) (5.5.0)\n",
            "Requirement already satisfied: blinker<2,>=1.0.0 in /usr/local/lib/python3.11/dist-packages (from streamlit) (1.9.0)\n",
            "Requirement already satisfied: cachetools<6,>=4.0 in /usr/local/lib/python3.11/dist-packages (from streamlit) (5.5.1)\n",
            "Requirement already satisfied: click<9,>=7.0 in /usr/local/lib/python3.11/dist-packages (from streamlit) (8.1.8)\n",
            "Requirement already satisfied: pillow<12,>=7.1.0 in /usr/local/lib/python3.11/dist-packages (from streamlit) (11.1.0)\n",
            "Requirement already satisfied: pyarrow>=7.0 in /usr/local/lib/python3.11/dist-packages (from streamlit) (17.0.0)\n",
            "Requirement already satisfied: rich<14,>=10.14.0 in /usr/local/lib/python3.11/dist-packages (from streamlit) (13.9.4)\n",
            "Requirement already satisfied: tenacity<10,>=8.1.0 in /usr/local/lib/python3.11/dist-packages (from streamlit) (9.0.0)\n",
            "Requirement already satisfied: toml<2,>=0.10.1 in /usr/local/lib/python3.11/dist-packages (from streamlit) (0.10.2)\n",
            "Collecting watchdog<7,>=2.1.5 (from streamlit)\n",
            "  Downloading watchdog-6.0.0-py3-none-manylinux2014_x86_64.whl.metadata (44 kB)\n",
            "\u001b[2K     \u001b[90m━━━━━━━━━━━━━━━━━━━━━━━━━━━━━━━━━━━━━━━━\u001b[0m \u001b[32m44.3/44.3 kB\u001b[0m \u001b[31m1.4 MB/s\u001b[0m eta \u001b[36m0:00:00\u001b[0m\n",
            "\u001b[?25hRequirement already satisfied: gitpython!=3.1.19,<4,>=3.0.7 in /usr/local/lib/python3.11/dist-packages (from streamlit) (3.1.44)\n",
            "Collecting pydeck<1,>=0.8.0b4 (from streamlit)\n",
            "  Downloading pydeck-0.9.1-py2.py3-none-any.whl.metadata (4.1 kB)\n",
            "Requirement already satisfied: tornado<7,>=6.0.3 in /usr/local/lib/python3.11/dist-packages (from streamlit) (6.4.2)\n",
            "Requirement already satisfied: certifi>=2023.7.22 in /usr/local/lib/python3.11/dist-packages (from kaggle) (2025.1.31)\n",
            "Requirement already satisfied: tqdm in /usr/local/lib/python3.11/dist-packages (from kaggle) (4.67.1)\n",
            "Requirement already satisfied: python-slugify in /usr/local/lib/python3.11/dist-packages (from kaggle) (8.0.4)\n",
            "Requirement already satisfied: urllib3 in /usr/local/lib/python3.11/dist-packages (from kaggle) (2.3.0)\n",
            "Requirement already satisfied: bleach in /usr/local/lib/python3.11/dist-packages (from kaggle) (6.2.0)\n",
            "Requirement already satisfied: jinja2 in /usr/local/lib/python3.11/dist-packages (from altair<6,>=4.0->streamlit) (3.1.5)\n",
            "Requirement already satisfied: jsonschema>=3.0 in /usr/local/lib/python3.11/dist-packages (from altair<6,>=4.0->streamlit) (4.23.0)\n",
            "Requirement already satisfied: narwhals>=1.14.2 in /usr/local/lib/python3.11/dist-packages (from altair<6,>=4.0->streamlit) (1.25.1)\n",
            "Requirement already satisfied: wheel<1.0,>=0.23.0 in /usr/local/lib/python3.11/dist-packages (from astunparse>=1.6.0->tensorflow) (0.45.1)\n",
            "Requirement already satisfied: gitdb<5,>=4.0.1 in /usr/local/lib/python3.11/dist-packages (from gitpython!=3.1.19,<4,>=3.0.7->streamlit) (4.0.12)\n",
            "Requirement already satisfied: namex in /usr/local/lib/python3.11/dist-packages (from keras>=3.5.0->tensorflow) (0.0.8)\n",
            "Requirement already satisfied: optree in /usr/local/lib/python3.11/dist-packages (from keras>=3.5.0->tensorflow) (0.14.0)\n",
            "Requirement already satisfied: charset-normalizer<4,>=2 in /usr/local/lib/python3.11/dist-packages (from requests<3,>=2.21.0->tensorflow) (3.4.1)\n",
            "Requirement already satisfied: idna<4,>=2.5 in /usr/local/lib/python3.11/dist-packages (from requests<3,>=2.21.0->tensorflow) (3.10)\n",
            "Requirement already satisfied: markdown-it-py>=2.2.0 in /usr/local/lib/python3.11/dist-packages (from rich<14,>=10.14.0->streamlit) (3.0.0)\n",
            "Requirement already satisfied: pygments<3.0.0,>=2.13.0 in /usr/local/lib/python3.11/dist-packages (from rich<14,>=10.14.0->streamlit) (2.18.0)\n",
            "Requirement already satisfied: markdown>=2.6.8 in /usr/local/lib/python3.11/dist-packages (from tensorboard<2.19,>=2.18->tensorflow) (3.7)\n",
            "Requirement already satisfied: tensorboard-data-server<0.8.0,>=0.7.0 in /usr/local/lib/python3.11/dist-packages (from tensorboard<2.19,>=2.18->tensorflow) (0.7.2)\n",
            "Requirement already satisfied: werkzeug>=1.0.1 in /usr/local/lib/python3.11/dist-packages (from tensorboard<2.19,>=2.18->tensorflow) (3.1.3)\n",
            "Requirement already satisfied: webencodings in /usr/local/lib/python3.11/dist-packages (from bleach->kaggle) (0.5.1)\n",
            "Requirement already satisfied: text-unidecode>=1.3 in /usr/local/lib/python3.11/dist-packages (from python-slugify->kaggle) (1.3)\n",
            "Requirement already satisfied: smmap<6,>=3.0.1 in /usr/local/lib/python3.11/dist-packages (from gitdb<5,>=4.0.1->gitpython!=3.1.19,<4,>=3.0.7->streamlit) (5.0.2)\n",
            "Requirement already satisfied: MarkupSafe>=2.0 in /usr/local/lib/python3.11/dist-packages (from jinja2->altair<6,>=4.0->streamlit) (3.0.2)\n",
            "Requirement already satisfied: attrs>=22.2.0 in /usr/local/lib/python3.11/dist-packages (from jsonschema>=3.0->altair<6,>=4.0->streamlit) (25.1.0)\n",
            "Requirement already satisfied: jsonschema-specifications>=2023.03.6 in /usr/local/lib/python3.11/dist-packages (from jsonschema>=3.0->altair<6,>=4.0->streamlit) (2024.10.1)\n",
            "Requirement already satisfied: referencing>=0.28.4 in /usr/local/lib/python3.11/dist-packages (from jsonschema>=3.0->altair<6,>=4.0->streamlit) (0.36.2)\n",
            "Requirement already satisfied: rpds-py>=0.7.1 in /usr/local/lib/python3.11/dist-packages (from jsonschema>=3.0->altair<6,>=4.0->streamlit) (0.22.3)\n",
            "Requirement already satisfied: mdurl~=0.1 in /usr/local/lib/python3.11/dist-packages (from markdown-it-py>=2.2.0->rich<14,>=10.14.0->streamlit) (0.1.2)\n",
            "Downloading streamlit-1.42.0-py2.py3-none-any.whl (9.6 MB)\n",
            "\u001b[2K   \u001b[90m━━━━━━━━━━━━━━━━━━━━━━━━━━━━━━━━━━━━━━━━\u001b[0m \u001b[32m9.6/9.6 MB\u001b[0m \u001b[31m43.8 MB/s\u001b[0m eta \u001b[36m0:00:00\u001b[0m\n",
            "\u001b[?25hDownloading schedule-1.2.2-py3-none-any.whl (12 kB)\n",
            "Downloading pydeck-0.9.1-py2.py3-none-any.whl (6.9 MB)\n",
            "\u001b[2K   \u001b[90m━━━━━━━━━━━━━━━━━━━━━━━━━━━━━━━━━━━━━━━━\u001b[0m \u001b[32m6.9/6.9 MB\u001b[0m \u001b[31m57.7 MB/s\u001b[0m eta \u001b[36m0:00:00\u001b[0m\n",
            "\u001b[?25hDownloading watchdog-6.0.0-py3-none-manylinux2014_x86_64.whl (79 kB)\n",
            "\u001b[2K   \u001b[90m━━━━━━━━━━━━━━━━━━━━━━━━━━━━━━━━━━━━━━━━\u001b[0m \u001b[32m79.1/79.1 kB\u001b[0m \u001b[31m4.0 MB/s\u001b[0m eta \u001b[36m0:00:00\u001b[0m\n",
            "\u001b[?25hInstalling collected packages: watchdog, schedule, pydeck, streamlit\n",
            "Successfully installed pydeck-0.9.1 schedule-1.2.2 streamlit-1.42.0 watchdog-6.0.0\n"
          ]
        }
      ],
      "source": [
        "!pip install pandas numpy scikit-learn tensorflow streamlit schedule kaggle\n",
        "\n"
      ]
    },
    {
      "cell_type": "code",
      "source": [
        "from google.colab import files\n",
        "files.upload()  # This will open a file picker, select `kaggle.json`"
      ],
      "metadata": {
        "colab": {
          "base_uri": "https://localhost:8080/",
          "height": 90
        },
        "id": "1droR6AkB1BP",
        "outputId": "a1ecbac9-c283-4559-f900-baf31effa75c"
      },
      "execution_count": 2,
      "outputs": [
        {
          "output_type": "display_data",
          "data": {
            "text/plain": [
              "<IPython.core.display.HTML object>"
            ],
            "text/html": [
              "\n",
              "     <input type=\"file\" id=\"files-50b97611-7953-4e95-8527-dcf4a1a6d6e4\" name=\"files[]\" multiple disabled\n",
              "        style=\"border:none\" />\n",
              "     <output id=\"result-50b97611-7953-4e95-8527-dcf4a1a6d6e4\">\n",
              "      Upload widget is only available when the cell has been executed in the\n",
              "      current browser session. Please rerun this cell to enable.\n",
              "      </output>\n",
              "      <script>// Copyright 2017 Google LLC\n",
              "//\n",
              "// Licensed under the Apache License, Version 2.0 (the \"License\");\n",
              "// you may not use this file except in compliance with the License.\n",
              "// You may obtain a copy of the License at\n",
              "//\n",
              "//      http://www.apache.org/licenses/LICENSE-2.0\n",
              "//\n",
              "// Unless required by applicable law or agreed to in writing, software\n",
              "// distributed under the License is distributed on an \"AS IS\" BASIS,\n",
              "// WITHOUT WARRANTIES OR CONDITIONS OF ANY KIND, either express or implied.\n",
              "// See the License for the specific language governing permissions and\n",
              "// limitations under the License.\n",
              "\n",
              "/**\n",
              " * @fileoverview Helpers for google.colab Python module.\n",
              " */\n",
              "(function(scope) {\n",
              "function span(text, styleAttributes = {}) {\n",
              "  const element = document.createElement('span');\n",
              "  element.textContent = text;\n",
              "  for (const key of Object.keys(styleAttributes)) {\n",
              "    element.style[key] = styleAttributes[key];\n",
              "  }\n",
              "  return element;\n",
              "}\n",
              "\n",
              "// Max number of bytes which will be uploaded at a time.\n",
              "const MAX_PAYLOAD_SIZE = 100 * 1024;\n",
              "\n",
              "function _uploadFiles(inputId, outputId) {\n",
              "  const steps = uploadFilesStep(inputId, outputId);\n",
              "  const outputElement = document.getElementById(outputId);\n",
              "  // Cache steps on the outputElement to make it available for the next call\n",
              "  // to uploadFilesContinue from Python.\n",
              "  outputElement.steps = steps;\n",
              "\n",
              "  return _uploadFilesContinue(outputId);\n",
              "}\n",
              "\n",
              "// This is roughly an async generator (not supported in the browser yet),\n",
              "// where there are multiple asynchronous steps and the Python side is going\n",
              "// to poll for completion of each step.\n",
              "// This uses a Promise to block the python side on completion of each step,\n",
              "// then passes the result of the previous step as the input to the next step.\n",
              "function _uploadFilesContinue(outputId) {\n",
              "  const outputElement = document.getElementById(outputId);\n",
              "  const steps = outputElement.steps;\n",
              "\n",
              "  const next = steps.next(outputElement.lastPromiseValue);\n",
              "  return Promise.resolve(next.value.promise).then((value) => {\n",
              "    // Cache the last promise value to make it available to the next\n",
              "    // step of the generator.\n",
              "    outputElement.lastPromiseValue = value;\n",
              "    return next.value.response;\n",
              "  });\n",
              "}\n",
              "\n",
              "/**\n",
              " * Generator function which is called between each async step of the upload\n",
              " * process.\n",
              " * @param {string} inputId Element ID of the input file picker element.\n",
              " * @param {string} outputId Element ID of the output display.\n",
              " * @return {!Iterable<!Object>} Iterable of next steps.\n",
              " */\n",
              "function* uploadFilesStep(inputId, outputId) {\n",
              "  const inputElement = document.getElementById(inputId);\n",
              "  inputElement.disabled = false;\n",
              "\n",
              "  const outputElement = document.getElementById(outputId);\n",
              "  outputElement.innerHTML = '';\n",
              "\n",
              "  const pickedPromise = new Promise((resolve) => {\n",
              "    inputElement.addEventListener('change', (e) => {\n",
              "      resolve(e.target.files);\n",
              "    });\n",
              "  });\n",
              "\n",
              "  const cancel = document.createElement('button');\n",
              "  inputElement.parentElement.appendChild(cancel);\n",
              "  cancel.textContent = 'Cancel upload';\n",
              "  const cancelPromise = new Promise((resolve) => {\n",
              "    cancel.onclick = () => {\n",
              "      resolve(null);\n",
              "    };\n",
              "  });\n",
              "\n",
              "  // Wait for the user to pick the files.\n",
              "  const files = yield {\n",
              "    promise: Promise.race([pickedPromise, cancelPromise]),\n",
              "    response: {\n",
              "      action: 'starting',\n",
              "    }\n",
              "  };\n",
              "\n",
              "  cancel.remove();\n",
              "\n",
              "  // Disable the input element since further picks are not allowed.\n",
              "  inputElement.disabled = true;\n",
              "\n",
              "  if (!files) {\n",
              "    return {\n",
              "      response: {\n",
              "        action: 'complete',\n",
              "      }\n",
              "    };\n",
              "  }\n",
              "\n",
              "  for (const file of files) {\n",
              "    const li = document.createElement('li');\n",
              "    li.append(span(file.name, {fontWeight: 'bold'}));\n",
              "    li.append(span(\n",
              "        `(${file.type || 'n/a'}) - ${file.size} bytes, ` +\n",
              "        `last modified: ${\n",
              "            file.lastModifiedDate ? file.lastModifiedDate.toLocaleDateString() :\n",
              "                                    'n/a'} - `));\n",
              "    const percent = span('0% done');\n",
              "    li.appendChild(percent);\n",
              "\n",
              "    outputElement.appendChild(li);\n",
              "\n",
              "    const fileDataPromise = new Promise((resolve) => {\n",
              "      const reader = new FileReader();\n",
              "      reader.onload = (e) => {\n",
              "        resolve(e.target.result);\n",
              "      };\n",
              "      reader.readAsArrayBuffer(file);\n",
              "    });\n",
              "    // Wait for the data to be ready.\n",
              "    let fileData = yield {\n",
              "      promise: fileDataPromise,\n",
              "      response: {\n",
              "        action: 'continue',\n",
              "      }\n",
              "    };\n",
              "\n",
              "    // Use a chunked sending to avoid message size limits. See b/62115660.\n",
              "    let position = 0;\n",
              "    do {\n",
              "      const length = Math.min(fileData.byteLength - position, MAX_PAYLOAD_SIZE);\n",
              "      const chunk = new Uint8Array(fileData, position, length);\n",
              "      position += length;\n",
              "\n",
              "      const base64 = btoa(String.fromCharCode.apply(null, chunk));\n",
              "      yield {\n",
              "        response: {\n",
              "          action: 'append',\n",
              "          file: file.name,\n",
              "          data: base64,\n",
              "        },\n",
              "      };\n",
              "\n",
              "      let percentDone = fileData.byteLength === 0 ?\n",
              "          100 :\n",
              "          Math.round((position / fileData.byteLength) * 100);\n",
              "      percent.textContent = `${percentDone}% done`;\n",
              "\n",
              "    } while (position < fileData.byteLength);\n",
              "  }\n",
              "\n",
              "  // All done.\n",
              "  yield {\n",
              "    response: {\n",
              "      action: 'complete',\n",
              "    }\n",
              "  };\n",
              "}\n",
              "\n",
              "scope.google = scope.google || {};\n",
              "scope.google.colab = scope.google.colab || {};\n",
              "scope.google.colab._files = {\n",
              "  _uploadFiles,\n",
              "  _uploadFilesContinue,\n",
              "};\n",
              "})(self);\n",
              "</script> "
            ]
          },
          "metadata": {}
        },
        {
          "output_type": "stream",
          "name": "stdout",
          "text": [
            "Saving kaggle.json to kaggle.json\n"
          ]
        },
        {
          "output_type": "execute_result",
          "data": {
            "text/plain": [
              "{'kaggle.json': b'{\"username\":\"laibajabeen\",\"key\":\"890076fdb499d3badb4b725647d2fe9c\"}'}"
            ]
          },
          "metadata": {},
          "execution_count": 2
        }
      ]
    },
    {
      "cell_type": "code",
      "source": [
        "import shutil\n",
        "import os\n",
        "\n",
        "# Create the .kaggle directory if it doesn't exist\n",
        "os.makedirs(\"/root/.kaggle\", exist_ok=True)\n",
        "\n",
        "# Move kaggle.json to the correct location\n",
        "shutil.move(\"kaggle.json\", \"/root/.kaggle/\")\n",
        "\n",
        "# Set permissions\n",
        "os.chmod(\"/root/.kaggle/kaggle.json\", 0o600)\n",
        "\n",
        "print(\"✅ Kaggle API key successfully set up!\")\n"
      ],
      "metadata": {
        "colab": {
          "base_uri": "https://localhost:8080/"
        },
        "id": "w7UTcVudB8Up",
        "outputId": "82da58ff-619d-4d4e-a172-97cccb132068"
      },
      "execution_count": 3,
      "outputs": [
        {
          "output_type": "stream",
          "name": "stdout",
          "text": [
            "✅ Kaggle API key successfully set up!\n"
          ]
        }
      ]
    },
    {
      "cell_type": "code",
      "source": [
        "!kaggle datasets download -d behrad3d/nasa-cmaps\n",
        "!unzip nasa-cmaps.zip -d nasa-cmaps\n"
      ],
      "metadata": {
        "colab": {
          "base_uri": "https://localhost:8080/"
        },
        "id": "E3vQi-ekB_UQ",
        "outputId": "91395703-00d7-49fc-d53d-441e3c954743"
      },
      "execution_count": 4,
      "outputs": [
        {
          "output_type": "stream",
          "name": "stdout",
          "text": [
            "Dataset URL: https://www.kaggle.com/datasets/behrad3d/nasa-cmaps\n",
            "License(s): CC0-1.0\n",
            "Downloading nasa-cmaps.zip to /content\n",
            " 57% 7.00M/12.3M [00:00<00:00, 61.0MB/s]\n",
            "100% 12.3M/12.3M [00:00<00:00, 36.8MB/s]\n",
            "Archive:  nasa-cmaps.zip\n",
            "  inflating: nasa-cmaps/CMaps/Damage Propagation Modeling.pdf  \n",
            "  inflating: nasa-cmaps/CMaps/RUL_FD001.txt  \n",
            "  inflating: nasa-cmaps/CMaps/RUL_FD002.txt  \n",
            "  inflating: nasa-cmaps/CMaps/RUL_FD003.txt  \n",
            "  inflating: nasa-cmaps/CMaps/RUL_FD004.txt  \n",
            "  inflating: nasa-cmaps/CMaps/readme.txt  \n",
            "  inflating: nasa-cmaps/CMaps/test_FD001.txt  \n",
            "  inflating: nasa-cmaps/CMaps/test_FD002.txt  \n",
            "  inflating: nasa-cmaps/CMaps/test_FD003.txt  \n",
            "  inflating: nasa-cmaps/CMaps/test_FD004.txt  \n",
            "  inflating: nasa-cmaps/CMaps/train_FD001.txt  \n",
            "  inflating: nasa-cmaps/CMaps/train_FD002.txt  \n",
            "  inflating: nasa-cmaps/CMaps/train_FD003.txt  \n",
            "  inflating: nasa-cmaps/CMaps/train_FD004.txt  \n",
            "  inflating: nasa-cmaps/CMaps/x.txt  \n"
          ]
        }
      ]
    },
    {
      "cell_type": "code",
      "source": [
        "import pandas as pd\n",
        "\n",
        "# Define the file path (adjust if necessary)\n",
        "file_path = \"nasa-cmaps/CMaps/train_FD001.txt\"\n",
        "\n",
        "\n",
        "# Define column names based on dataset structure\n",
        "columns = [\"unit\", \"time\", \"operational_setting_1\", \"operational_setting_2\", \"operational_setting_3\",\n",
        "           \"sensor_1\", \"sensor_2\", \"sensor_3\", \"sensor_4\", \"sensor_5\",\n",
        "           \"sensor_6\", \"sensor_7\", \"sensor_8\", \"sensor_9\", \"sensor_10\",\n",
        "           \"sensor_11\", \"sensor_12\", \"sensor_13\", \"sensor_14\", \"sensor_15\",\n",
        "           \"sensor_16\", \"sensor_17\", \"sensor_18\", \"sensor_19\", \"sensor_20\", \"sensor_21\"]\n",
        "\n",
        "df = pd.read_csv(file_path, sep=\" \", header=None, names=columns, engine=\"python\")\n",
        "\n",
        "# Drop empty columns\n",
        "df = df.dropna(axis=1, how='all')\n",
        "\n",
        "# Display the first few rows\n",
        "print(df.head())\n",
        "\n",
        "\n"
      ],
      "metadata": {
        "colab": {
          "base_uri": "https://localhost:8080/"
        },
        "id": "9zedggt3CDCE",
        "outputId": "77804fef-dcb7-4cf8-8f76-1705bb3fc8f6"
      },
      "execution_count": 5,
      "outputs": [
        {
          "output_type": "stream",
          "name": "stdout",
          "text": [
            "       unit    time  operational_setting_1  operational_setting_2  \\\n",
            "1 1 -0.0007 -0.0004                  100.0                 518.67   \n",
            "  2  0.0019 -0.0003                  100.0                 518.67   \n",
            "  3 -0.0043  0.0003                  100.0                 518.67   \n",
            "  4  0.0007  0.0000                  100.0                 518.67   \n",
            "  5 -0.0019 -0.0002                  100.0                 518.67   \n",
            "\n",
            "     operational_setting_3  sensor_1  sensor_2  sensor_3  sensor_4  sensor_5  \\\n",
            "1 1                 641.82   1589.70   1400.60     14.62     21.61    554.36   \n",
            "  2                 642.15   1591.82   1403.14     14.62     21.61    553.75   \n",
            "  3                 642.35   1587.99   1404.20     14.62     21.61    554.26   \n",
            "  4                 642.35   1582.79   1401.87     14.62     21.61    554.45   \n",
            "  5                 642.37   1582.85   1406.22     14.62     21.61    554.00   \n",
            "\n",
            "     ...  sensor_10  sensor_11  sensor_12  sensor_13  sensor_14  sensor_15  \\\n",
            "1 1  ...     521.66    2388.02    8138.62     8.4195       0.03        392   \n",
            "  2  ...     522.28    2388.07    8131.49     8.4318       0.03        392   \n",
            "  3  ...     522.42    2388.03    8133.23     8.4178       0.03        390   \n",
            "  4  ...     522.86    2388.08    8133.83     8.3682       0.03        392   \n",
            "  5  ...     522.19    2388.04    8133.80     8.4294       0.03        393   \n",
            "\n",
            "     sensor_16  sensor_17  sensor_18  sensor_19  \n",
            "1 1       2388      100.0      39.06    23.4190  \n",
            "  2       2388      100.0      39.00    23.4236  \n",
            "  3       2388      100.0      38.95    23.3442  \n",
            "  4       2388      100.0      38.88    23.3739  \n",
            "  5       2388      100.0      38.90    23.4044  \n",
            "\n",
            "[5 rows x 24 columns]\n"
          ]
        }
      ]
    },
    {
      "cell_type": "code",
      "source": [
        "# Check the first few rows\n",
        "print(df.head())\n",
        "\n",
        "# Check dataset shape\n",
        "print(\"Dataset shape:\", df.shape)\n",
        "\n",
        "# Check for missing values\n",
        "print(\"\\nMissing values:\\n\", df.isnull().sum())\n",
        "\n",
        "# Check how many unique engines (units) are in the dataset\n",
        "print(\"\\nNumber of unique engines (units):\", df['unit'].nunique())\n"
      ],
      "metadata": {
        "colab": {
          "base_uri": "https://localhost:8080/"
        },
        "id": "E3_YqNAmCGbJ",
        "outputId": "cb25072e-3b44-4a59-8d11-0700e9799b8c"
      },
      "execution_count": 6,
      "outputs": [
        {
          "output_type": "stream",
          "name": "stdout",
          "text": [
            "       unit    time  operational_setting_1  operational_setting_2  \\\n",
            "1 1 -0.0007 -0.0004                  100.0                 518.67   \n",
            "  2  0.0019 -0.0003                  100.0                 518.67   \n",
            "  3 -0.0043  0.0003                  100.0                 518.67   \n",
            "  4  0.0007  0.0000                  100.0                 518.67   \n",
            "  5 -0.0019 -0.0002                  100.0                 518.67   \n",
            "\n",
            "     operational_setting_3  sensor_1  sensor_2  sensor_3  sensor_4  sensor_5  \\\n",
            "1 1                 641.82   1589.70   1400.60     14.62     21.61    554.36   \n",
            "  2                 642.15   1591.82   1403.14     14.62     21.61    553.75   \n",
            "  3                 642.35   1587.99   1404.20     14.62     21.61    554.26   \n",
            "  4                 642.35   1582.79   1401.87     14.62     21.61    554.45   \n",
            "  5                 642.37   1582.85   1406.22     14.62     21.61    554.00   \n",
            "\n",
            "     ...  sensor_10  sensor_11  sensor_12  sensor_13  sensor_14  sensor_15  \\\n",
            "1 1  ...     521.66    2388.02    8138.62     8.4195       0.03        392   \n",
            "  2  ...     522.28    2388.07    8131.49     8.4318       0.03        392   \n",
            "  3  ...     522.42    2388.03    8133.23     8.4178       0.03        390   \n",
            "  4  ...     522.86    2388.08    8133.83     8.3682       0.03        392   \n",
            "  5  ...     522.19    2388.04    8133.80     8.4294       0.03        393   \n",
            "\n",
            "     sensor_16  sensor_17  sensor_18  sensor_19  \n",
            "1 1       2388      100.0      39.06    23.4190  \n",
            "  2       2388      100.0      39.00    23.4236  \n",
            "  3       2388      100.0      38.95    23.3442  \n",
            "  4       2388      100.0      38.88    23.3739  \n",
            "  5       2388      100.0      38.90    23.4044  \n",
            "\n",
            "[5 rows x 24 columns]\n",
            "Dataset shape: (20631, 24)\n",
            "\n",
            "Missing values:\n",
            " unit                     0\n",
            "time                     0\n",
            "operational_setting_1    0\n",
            "operational_setting_2    0\n",
            "operational_setting_3    0\n",
            "sensor_1                 0\n",
            "sensor_2                 0\n",
            "sensor_3                 0\n",
            "sensor_4                 0\n",
            "sensor_5                 0\n",
            "sensor_6                 0\n",
            "sensor_7                 0\n",
            "sensor_8                 0\n",
            "sensor_9                 0\n",
            "sensor_10                0\n",
            "sensor_11                0\n",
            "sensor_12                0\n",
            "sensor_13                0\n",
            "sensor_14                0\n",
            "sensor_15                0\n",
            "sensor_16                0\n",
            "sensor_17                0\n",
            "sensor_18                0\n",
            "sensor_19                0\n",
            "dtype: int64\n",
            "\n",
            "Number of unique engines (units): 158\n"
          ]
        }
      ]
    },
    {
      "cell_type": "code",
      "source": [
        "import numpy as np\n",
        "\n",
        "# Compute max time per engine unit\n",
        "rul_df = df.groupby(\"unit\")[\"time\"].max().reset_index()\n",
        "rul_df.columns = [\"unit\", \"max_time\"]\n",
        "\n",
        "# Merge with original dataset\n",
        "df = df.merge(rul_df, on=\"unit\")\n",
        "\n",
        "# Calculate RUL\n",
        "df[\"RUL\"] = df[\"max_time\"] - df[\"time\"]\n",
        "df.drop(\"max_time\", axis=1, inplace=True)\n",
        "\n",
        "# Display updated dataset\n",
        "print(df.head())\n"
      ],
      "metadata": {
        "colab": {
          "base_uri": "https://localhost:8080/"
        },
        "id": "ImFMXOHECJth",
        "outputId": "9a0ea1b2-b4c6-48b7-be59-1b07bb7541de"
      },
      "execution_count": 7,
      "outputs": [
        {
          "output_type": "stream",
          "name": "stdout",
          "text": [
            "     unit    time  operational_setting_1  operational_setting_2  \\\n",
            "0 -0.0007 -0.0004                  100.0                 518.67   \n",
            "1  0.0019 -0.0003                  100.0                 518.67   \n",
            "2 -0.0043  0.0003                  100.0                 518.67   \n",
            "3  0.0007  0.0000                  100.0                 518.67   \n",
            "4 -0.0019 -0.0002                  100.0                 518.67   \n",
            "\n",
            "   operational_setting_3  sensor_1  sensor_2  sensor_3  sensor_4  sensor_5  \\\n",
            "0                 641.82   1589.70   1400.60     14.62     21.61    554.36   \n",
            "1                 642.15   1591.82   1403.14     14.62     21.61    553.75   \n",
            "2                 642.35   1587.99   1404.20     14.62     21.61    554.26   \n",
            "3                 642.35   1582.79   1401.87     14.62     21.61    554.45   \n",
            "4                 642.37   1582.85   1406.22     14.62     21.61    554.00   \n",
            "\n",
            "   ...  sensor_11  sensor_12  sensor_13  sensor_14  sensor_15  sensor_16  \\\n",
            "0  ...    2388.02    8138.62     8.4195       0.03        392       2388   \n",
            "1  ...    2388.07    8131.49     8.4318       0.03        392       2388   \n",
            "2  ...    2388.03    8133.23     8.4178       0.03        390       2388   \n",
            "3  ...    2388.08    8133.83     8.3682       0.03        392       2388   \n",
            "4  ...    2388.04    8133.80     8.4294       0.03        393       2388   \n",
            "\n",
            "   sensor_17  sensor_18  sensor_19     RUL  \n",
            "0      100.0      39.06    23.4190  0.0010  \n",
            "1      100.0      39.00    23.4236  0.0009  \n",
            "2      100.0      38.95    23.3442  0.0002  \n",
            "3      100.0      38.88    23.3739  0.0005  \n",
            "4      100.0      38.90    23.4044  0.0007  \n",
            "\n",
            "[5 rows x 25 columns]\n"
          ]
        }
      ]
    },
    {
      "cell_type": "code",
      "source": [
        "from sklearn.preprocessing import StandardScaler\n",
        "\n",
        "# Select sensor columns\n",
        "sensor_cols = [col for col in df.columns if \"sensor\" in col]\n",
        "\n",
        "# Normalize sensor data\n",
        "scaler = StandardScaler()\n",
        "df[sensor_cols] = scaler.fit_transform(df[sensor_cols])\n",
        "\n",
        "# Check the transformed data\n",
        "print(df.head())\n"
      ],
      "metadata": {
        "colab": {
          "base_uri": "https://localhost:8080/"
        },
        "id": "7LgF3BN_CMcm",
        "outputId": "ebca0bfb-5fe1-468f-fefd-36e447feb302"
      },
      "execution_count": 8,
      "outputs": [
        {
          "output_type": "stream",
          "name": "stdout",
          "text": [
            "     unit    time  operational_setting_1  operational_setting_2  \\\n",
            "0 -0.0007 -0.0004                  100.0                 518.67   \n",
            "1  0.0019 -0.0003                  100.0                 518.67   \n",
            "2 -0.0043  0.0003                  100.0                 518.67   \n",
            "3  0.0007  0.0000                  100.0                 518.67   \n",
            "4 -0.0019 -0.0002                  100.0                 518.67   \n",
            "\n",
            "   operational_setting_3  sensor_1  sensor_2      sensor_3  sensor_4  \\\n",
            "0                 641.82 -0.134255 -0.925936 -1.776357e-15  0.141683   \n",
            "1                 642.15  0.211528 -0.643726 -1.776357e-15  0.141683   \n",
            "2                 642.35 -0.413166 -0.525953 -1.776357e-15  0.141683   \n",
            "3                 642.35 -1.261314 -0.784831 -1.776357e-15  0.141683   \n",
            "4                 642.37 -1.251528 -0.301518 -1.776357e-15  0.141683   \n",
            "\n",
            "   sensor_5  ...  sensor_11  sensor_12  sensor_13     sensor_14  sensor_15  \\\n",
            "0  1.121141  ...  -1.058890  -0.269071  -0.603816 -1.387779e-17  -0.781710   \n",
            "1  0.431930  ...  -0.363646  -0.642845  -0.275852 -1.387779e-17  -0.781710   \n",
            "2  1.008155  ...  -0.919841  -0.551629  -0.649144 -1.387779e-17  -2.073094   \n",
            "3  1.222827  ...  -0.224597  -0.520176  -1.971665 -1.387779e-17  -0.781710   \n",
            "4  0.714393  ...  -0.780793  -0.521748  -0.339845 -1.387779e-17  -0.136018   \n",
            "\n",
            "   sensor_16  sensor_17  sensor_18  sensor_19     RUL  \n",
            "0        0.0        0.0   1.348493   1.194427  0.0010  \n",
            "1        0.0        0.0   1.016528   1.236922  0.0009  \n",
            "2        0.0        0.0   0.739891   0.503423  0.0002  \n",
            "3        0.0        0.0   0.352598   0.777792  0.0005  \n",
            "4        0.0        0.0   0.463253   1.059552  0.0007  \n",
            "\n",
            "[5 rows x 25 columns]\n"
          ]
        }
      ]
    },
    {
      "cell_type": "code",
      "source": [
        "from sklearn.model_selection import train_test_split\n",
        "\n",
        "# Define features (X) and target (y)\n",
        "X = df.drop(columns=[\"unit\", \"time\", \"RUL\"])  # Features\n",
        "y = df[\"RUL\"]  # Target\n",
        "\n",
        "# Split data (80% training, 20% testing)\n",
        "X_train, X_test, y_train, y_test = train_test_split(X, y, test_size=0.2, random_state=42)\n",
        "\n",
        "print(\"Training data shape:\", X_train.shape)\n",
        "print(\"Testing data shape:\", X_test.shape)\n"
      ],
      "metadata": {
        "colab": {
          "base_uri": "https://localhost:8080/"
        },
        "id": "8TC3BkwzCPQc",
        "outputId": "e5809798-62b5-416d-a4d2-6a4c9693af43"
      },
      "execution_count": 9,
      "outputs": [
        {
          "output_type": "stream",
          "name": "stdout",
          "text": [
            "Training data shape: (16504, 22)\n",
            "Testing data shape: (4127, 22)\n"
          ]
        }
      ]
    },
    {
      "cell_type": "code",
      "source": [
        "from sklearn.ensemble import RandomForestRegressor\n",
        "from sklearn.metrics import mean_squared_error\n",
        "\n",
        "# Train the model\n",
        "model = RandomForestRegressor(n_estimators=100, random_state=42)\n",
        "model.fit(X_train, y_train)\n",
        "\n",
        "# Make predictions\n",
        "y_pred = model.predict(X_test)\n",
        "\n",
        "# Evaluate model performance\n",
        "rmse = np.sqrt(mean_squared_error(y_test, y_pred))\n",
        "print(f\"RMSE: {rmse}\")\n"
      ],
      "metadata": {
        "colab": {
          "base_uri": "https://localhost:8080/"
        },
        "id": "kUijcA-TCRzh",
        "outputId": "4ab7122d-047a-429a-a141-736cb130281a"
      },
      "execution_count": 10,
      "outputs": [
        {
          "output_type": "stream",
          "name": "stdout",
          "text": [
            "RMSE: 0.00030183111792203023\n"
          ]
        }
      ]
    },
    {
      "cell_type": "code",
      "source": [
        "def predict_rul(new_data, model, scaler, threshold=20):\n",
        "    \"\"\"\n",
        "    Predicts Remaining Useful Life (RUL) for incoming data.\n",
        "\n",
        "    Params:\n",
        "        new_data (DataFrame): Incoming sensor data\n",
        "        model: Trained ML model\n",
        "        scaler: StandardScaler used for normalization\n",
        "        threshold (int): RUL limit for maintenance alerts\n",
        "\n",
        "    Returns:\n",
        "        rul_prediction (float): Predicted RUL\n",
        "        alert (str): Maintenance alert message\n",
        "    \"\"\"\n",
        "    # Drop \"RUL\" column if it exists\n",
        "    if \"RUL\" in new_data.columns:\n",
        "        new_data = new_data.drop(columns=[\"RUL\"])\n",
        "\n",
        "    # Select relevant sensor columns\n",
        "    sensor_cols = [col for col in new_data.columns if \"sensor\" in col]\n",
        "\n",
        "    # Normalize incoming data\n",
        "    new_data[sensor_cols] = scaler.transform(new_data[sensor_cols])\n",
        "\n",
        "    # Drop unnecessary columns\n",
        "    X_new = new_data.drop(columns=[\"unit\", \"time\"])  # Keep only sensor data\n",
        "\n",
        "    # Predict RUL\n",
        "    rul_prediction = model.predict(X_new)[0]\n",
        "\n",
        "    # Trigger alert if RUL is below the threshold\n",
        "    alert = \"⚠️ Maintenance Alert! Component failure expected soon!\" if rul_prediction < threshold else \"✅ System is healthy.\"\n",
        "\n",
        "    return rul_prediction, alert\n",
        "\n",
        "# Example usage (simulate new incoming data)\n",
        "new_sample = df.sample(1)  # Pick a random row\n",
        "predicted_rul, alert_msg = predict_rul(new_sample, model, scaler)\n",
        "\n",
        "print(f\"Predicted RUL: {predicted_rul:.2f} cycles\")\n",
        "print(alert_msg)\n"
      ],
      "metadata": {
        "colab": {
          "base_uri": "https://localhost:8080/"
        },
        "id": "BZB-mLTUCgxr",
        "outputId": "296dbf94-07cd-4530-88f6-01de087b803f"
      },
      "execution_count": 11,
      "outputs": [
        {
          "output_type": "stream",
          "name": "stdout",
          "text": [
            "Predicted RUL: 0.00 cycles\n",
            "⚠️ Maintenance Alert! Component failure expected soon!\n"
          ]
        }
      ]
    },
    {
      "cell_type": "code",
      "source": [
        "!pip install schedule\n"
      ],
      "metadata": {
        "colab": {
          "base_uri": "https://localhost:8080/"
        },
        "id": "aHlKbRbZCk2r",
        "outputId": "bef0d2f8-2072-494b-cb9c-e6e9d59e5478"
      },
      "execution_count": 12,
      "outputs": [
        {
          "output_type": "stream",
          "name": "stdout",
          "text": [
            "Requirement already satisfied: schedule in /usr/local/lib/python3.11/dist-packages (1.2.2)\n"
          ]
        }
      ]
    },
    {
      "cell_type": "code",
      "source": [
        "import schedule\n",
        "import time\n",
        "\n",
        "def monitor_system():\n",
        "    \"\"\"Periodically checks sensor data and predicts RUL.\"\"\"\n",
        "    new_sample = df.sample(1)  # Simulate incoming telemetry data\n",
        "    predicted_rul, alert_msg = predict_rul(new_sample, model, scaler)\n",
        "\n",
        "    print(f\"\\n🔄 Checking System... Predicted RUL: {predicted_rul:.2f} cycles\")\n",
        "    print(alert_msg)\n",
        "\n",
        "# Schedule the function to run every 5 minutes\n",
        "schedule.every(5).minutes.do(monitor_system)\n",
        "\n",
        "print(\"✅ AI Agent is now monitoring the system in real-time...\")\n",
        "\n",
        "# Run the scheduler\n",
        "while True:\n",
        "    schedule.run_pending()\n",
        "    time.sleep(1)\n"
      ],
      "metadata": {
        "colab": {
          "base_uri": "https://localhost:8080/",
          "height": 193
        },
        "id": "jQZ0AyRYCoKR",
        "outputId": "f357090e-34c2-4e4d-856e-084cb37e4730"
      },
      "execution_count": 13,
      "outputs": [
        {
          "output_type": "stream",
          "name": "stdout",
          "text": [
            "✅ AI Agent is now monitoring the system in real-time...\n"
          ]
        },
        {
          "output_type": "error",
          "ename": "KeyboardInterrupt",
          "evalue": "",
          "traceback": [
            "\u001b[0;31m---------------------------------------------------------------------------\u001b[0m",
            "\u001b[0;31mKeyboardInterrupt\u001b[0m                         Traceback (most recent call last)",
            "\u001b[0;32m<ipython-input-13-6769f7dd7715>\u001b[0m in \u001b[0;36m<cell line: 0>\u001b[0;34m()\u001b[0m\n\u001b[1;32m     18\u001b[0m \u001b[0;32mwhile\u001b[0m \u001b[0;32mTrue\u001b[0m\u001b[0;34m:\u001b[0m\u001b[0;34m\u001b[0m\u001b[0;34m\u001b[0m\u001b[0m\n\u001b[1;32m     19\u001b[0m     \u001b[0mschedule\u001b[0m\u001b[0;34m.\u001b[0m\u001b[0mrun_pending\u001b[0m\u001b[0;34m(\u001b[0m\u001b[0;34m)\u001b[0m\u001b[0;34m\u001b[0m\u001b[0;34m\u001b[0m\u001b[0m\n\u001b[0;32m---> 20\u001b[0;31m     \u001b[0mtime\u001b[0m\u001b[0;34m.\u001b[0m\u001b[0msleep\u001b[0m\u001b[0;34m(\u001b[0m\u001b[0;36m1\u001b[0m\u001b[0;34m)\u001b[0m\u001b[0;34m\u001b[0m\u001b[0;34m\u001b[0m\u001b[0m\n\u001b[0m",
            "\u001b[0;31mKeyboardInterrupt\u001b[0m: "
          ]
        }
      ]
    },
    {
      "cell_type": "code",
      "source": [
        "!pip install streamlit\n"
      ],
      "metadata": {
        "colab": {
          "base_uri": "https://localhost:8080/"
        },
        "id": "s8QeOOKrCr1g",
        "outputId": "ecc1af9a-c244-49d7-f168-5f2a0524060f"
      },
      "execution_count": 14,
      "outputs": [
        {
          "output_type": "stream",
          "name": "stdout",
          "text": [
            "Requirement already satisfied: streamlit in /usr/local/lib/python3.11/dist-packages (1.42.0)\n",
            "Requirement already satisfied: altair<6,>=4.0 in /usr/local/lib/python3.11/dist-packages (from streamlit) (5.5.0)\n",
            "Requirement already satisfied: blinker<2,>=1.0.0 in /usr/local/lib/python3.11/dist-packages (from streamlit) (1.9.0)\n",
            "Requirement already satisfied: cachetools<6,>=4.0 in /usr/local/lib/python3.11/dist-packages (from streamlit) (5.5.1)\n",
            "Requirement already satisfied: click<9,>=7.0 in /usr/local/lib/python3.11/dist-packages (from streamlit) (8.1.8)\n",
            "Requirement already satisfied: numpy<3,>=1.23 in /usr/local/lib/python3.11/dist-packages (from streamlit) (1.26.4)\n",
            "Requirement already satisfied: packaging<25,>=20 in /usr/local/lib/python3.11/dist-packages (from streamlit) (24.2)\n",
            "Requirement already satisfied: pandas<3,>=1.4.0 in /usr/local/lib/python3.11/dist-packages (from streamlit) (2.2.2)\n",
            "Requirement already satisfied: pillow<12,>=7.1.0 in /usr/local/lib/python3.11/dist-packages (from streamlit) (11.1.0)\n",
            "Requirement already satisfied: protobuf<6,>=3.20 in /usr/local/lib/python3.11/dist-packages (from streamlit) (4.25.6)\n",
            "Requirement already satisfied: pyarrow>=7.0 in /usr/local/lib/python3.11/dist-packages (from streamlit) (17.0.0)\n",
            "Requirement already satisfied: requests<3,>=2.27 in /usr/local/lib/python3.11/dist-packages (from streamlit) (2.32.3)\n",
            "Requirement already satisfied: rich<14,>=10.14.0 in /usr/local/lib/python3.11/dist-packages (from streamlit) (13.9.4)\n",
            "Requirement already satisfied: tenacity<10,>=8.1.0 in /usr/local/lib/python3.11/dist-packages (from streamlit) (9.0.0)\n",
            "Requirement already satisfied: toml<2,>=0.10.1 in /usr/local/lib/python3.11/dist-packages (from streamlit) (0.10.2)\n",
            "Requirement already satisfied: typing-extensions<5,>=4.4.0 in /usr/local/lib/python3.11/dist-packages (from streamlit) (4.12.2)\n",
            "Requirement already satisfied: watchdog<7,>=2.1.5 in /usr/local/lib/python3.11/dist-packages (from streamlit) (6.0.0)\n",
            "Requirement already satisfied: gitpython!=3.1.19,<4,>=3.0.7 in /usr/local/lib/python3.11/dist-packages (from streamlit) (3.1.44)\n",
            "Requirement already satisfied: pydeck<1,>=0.8.0b4 in /usr/local/lib/python3.11/dist-packages (from streamlit) (0.9.1)\n",
            "Requirement already satisfied: tornado<7,>=6.0.3 in /usr/local/lib/python3.11/dist-packages (from streamlit) (6.4.2)\n",
            "Requirement already satisfied: jinja2 in /usr/local/lib/python3.11/dist-packages (from altair<6,>=4.0->streamlit) (3.1.5)\n",
            "Requirement already satisfied: jsonschema>=3.0 in /usr/local/lib/python3.11/dist-packages (from altair<6,>=4.0->streamlit) (4.23.0)\n",
            "Requirement already satisfied: narwhals>=1.14.2 in /usr/local/lib/python3.11/dist-packages (from altair<6,>=4.0->streamlit) (1.25.1)\n",
            "Requirement already satisfied: gitdb<5,>=4.0.1 in /usr/local/lib/python3.11/dist-packages (from gitpython!=3.1.19,<4,>=3.0.7->streamlit) (4.0.12)\n",
            "Requirement already satisfied: python-dateutil>=2.8.2 in /usr/local/lib/python3.11/dist-packages (from pandas<3,>=1.4.0->streamlit) (2.8.2)\n",
            "Requirement already satisfied: pytz>=2020.1 in /usr/local/lib/python3.11/dist-packages (from pandas<3,>=1.4.0->streamlit) (2025.1)\n",
            "Requirement already satisfied: tzdata>=2022.7 in /usr/local/lib/python3.11/dist-packages (from pandas<3,>=1.4.0->streamlit) (2025.1)\n",
            "Requirement already satisfied: charset-normalizer<4,>=2 in /usr/local/lib/python3.11/dist-packages (from requests<3,>=2.27->streamlit) (3.4.1)\n",
            "Requirement already satisfied: idna<4,>=2.5 in /usr/local/lib/python3.11/dist-packages (from requests<3,>=2.27->streamlit) (3.10)\n",
            "Requirement already satisfied: urllib3<3,>=1.21.1 in /usr/local/lib/python3.11/dist-packages (from requests<3,>=2.27->streamlit) (2.3.0)\n",
            "Requirement already satisfied: certifi>=2017.4.17 in /usr/local/lib/python3.11/dist-packages (from requests<3,>=2.27->streamlit) (2025.1.31)\n",
            "Requirement already satisfied: markdown-it-py>=2.2.0 in /usr/local/lib/python3.11/dist-packages (from rich<14,>=10.14.0->streamlit) (3.0.0)\n",
            "Requirement already satisfied: pygments<3.0.0,>=2.13.0 in /usr/local/lib/python3.11/dist-packages (from rich<14,>=10.14.0->streamlit) (2.18.0)\n",
            "Requirement already satisfied: smmap<6,>=3.0.1 in /usr/local/lib/python3.11/dist-packages (from gitdb<5,>=4.0.1->gitpython!=3.1.19,<4,>=3.0.7->streamlit) (5.0.2)\n",
            "Requirement already satisfied: MarkupSafe>=2.0 in /usr/local/lib/python3.11/dist-packages (from jinja2->altair<6,>=4.0->streamlit) (3.0.2)\n",
            "Requirement already satisfied: attrs>=22.2.0 in /usr/local/lib/python3.11/dist-packages (from jsonschema>=3.0->altair<6,>=4.0->streamlit) (25.1.0)\n",
            "Requirement already satisfied: jsonschema-specifications>=2023.03.6 in /usr/local/lib/python3.11/dist-packages (from jsonschema>=3.0->altair<6,>=4.0->streamlit) (2024.10.1)\n",
            "Requirement already satisfied: referencing>=0.28.4 in /usr/local/lib/python3.11/dist-packages (from jsonschema>=3.0->altair<6,>=4.0->streamlit) (0.36.2)\n",
            "Requirement already satisfied: rpds-py>=0.7.1 in /usr/local/lib/python3.11/dist-packages (from jsonschema>=3.0->altair<6,>=4.0->streamlit) (0.22.3)\n",
            "Requirement already satisfied: mdurl~=0.1 in /usr/local/lib/python3.11/dist-packages (from markdown-it-py>=2.2.0->rich<14,>=10.14.0->streamlit) (0.1.2)\n",
            "Requirement already satisfied: six>=1.5 in /usr/local/lib/python3.11/dist-packages (from python-dateutil>=2.8.2->pandas<3,>=1.4.0->streamlit) (1.17.0)\n"
          ]
        }
      ]
    },
    {
      "cell_type": "code",
      "source": [
        "%%writefile app.py\n",
        "import streamlit as st\n",
        "import pandas as pd\n",
        "import numpy as np\n",
        "import pickle\n",
        "from sklearn.preprocessing import StandardScaler\n",
        "\n",
        "# Load trained model and scaler\n",
        "model = pickle.load(open(\"rul_model.pkl\", \"rb\"))\n",
        "scaler = pickle.load(open(\"scaler.pkl\", \"rb\"))\n",
        "\n",
        "st.title(\"🚀 Spacecraft Predictive Maintenance AI\")\n",
        "st.subheader(\"Real-time RUL Prediction & Monitoring\")\n",
        "\n",
        "# Function to predict RUL\n",
        "def predict_rul(new_data, model, scaler, threshold=20):\n",
        "    if \"RUL\" in new_data.columns:\n",
        "        new_data = new_data.drop(columns=[\"RUL\"])\n",
        "\n",
        "    # Select sensor columns\n",
        "    sensor_cols = [col for col in new_data.columns if \"sensor\" in col]\n",
        "    new_data[sensor_cols] = scaler.transform(new_data[sensor_cols])\n",
        "\n",
        "    # Drop unnecessary columns\n",
        "    X_new = new_data.drop(columns=[\"unit\", \"time\"])\n",
        "\n",
        "    # Predict RUL\n",
        "    rul_prediction = model.predict(X_new)[0]\n",
        "    alert = \"⚠️ Maintenance Alert! Component failure expected soon!\" if rul_prediction < threshold else \"✅ System is healthy.\"\n",
        "\n",
        "    return rul_prediction, alert\n",
        "\n",
        "# Simulate real-time telemetry data\n",
        "if st.button(\"📡 Get New Sensor Data\"):\n",
        "    df = pd.read_csv(\"nasa-cmaps/CMaps/train_FD001.txt\", sep=\" \", header=None)\n",
        "    new_sample = df.sample(1)\n",
        "\n",
        "    predicted_rul, alert_msg = predict_rul(new_sample, model, scaler)\n",
        "\n",
        "    st.write(f\"🔢 **Predicted RUL:** {predicted_rul:.2f} cycles\")\n",
        "    st.warning(alert_msg) if predicted_rul < 20 else st.success(alert_msg)\n"
      ],
      "metadata": {
        "colab": {
          "base_uri": "https://localhost:8080/"
        },
        "id": "hForTznYCvnT",
        "outputId": "84da1464-657d-4ba4-d822-7d7ba941c14a"
      },
      "execution_count": 15,
      "outputs": [
        {
          "output_type": "stream",
          "name": "stdout",
          "text": [
            "Writing app.py\n"
          ]
        }
      ]
    }
  ]
}